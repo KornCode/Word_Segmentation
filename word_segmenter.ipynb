{
 "cells": [
  {
   "cell_type": "code",
   "execution_count": 28,
   "metadata": {},
   "outputs": [],
   "source": [
    "from thainlplib import ThaiWordSegmentLabeller\n",
    "import numpy as np\n",
    "import tensorflow as tf\n",
    "    \n",
    "def word_segmenter(sentence):\n",
    "    # Pretrained model weights location\n",
    "    saved_model_path='saved_model'\n",
    "\n",
    "    # Input text\n",
    "    #thai_txt = open(\"/Users/korn/Desktop/thai-word-data.txt\", \"r\")\n",
    "    #thai_txt = sentence.read()\n",
    "    thai_txt = sentence\n",
    "    text = thai_txt\n",
    "\n",
    "    # Convert text to labels\n",
    "    inputs = [ThaiWordSegmentLabeller.get_input_labels(text)]\n",
    "    lengths = [len(text)]\n",
    "\n",
    "    def nonzero(a):\n",
    "        return [i for i, e in enumerate(a) if e != 0]\n",
    "\n",
    "    def split(s, indices):\n",
    "        return [s[i:j] for i,j in zip(indices, indices[1:]+[None])]\n",
    "\n",
    "    with tf.Session() as session:\n",
    "        # Read model weights\n",
    "        model = tf.saved_model.loader.load(session, [tf.saved_model.tag_constants.SERVING], saved_model_path)\n",
    "\n",
    "        # Get model input variables\n",
    "        graph = tf.get_default_graph()\n",
    "        g_inputs = graph.get_tensor_by_name('IteratorGetNext:1')\n",
    "        g_lengths = graph.get_tensor_by_name('IteratorGetNext:0')\n",
    "        g_training = graph.get_tensor_by_name('Placeholder_1:0')\n",
    "        g_outputs = graph.get_tensor_by_name('boolean_mask_1/Gather:0')\n",
    "\n",
    "        # Segment the text\n",
    "        y = session.run(g_outputs, feed_dict = {g_inputs: inputs, g_lengths: lengths, g_training: False})\n",
    "\n",
    "        # Mark word boundaries with pipe character\n",
    "        #for w in split(text, nonzero(y)): print(w, end='|')\n",
    "        #print()\n",
    "        \n",
    "        \"\"\"\n",
    "        print('Word')\n",
    "        for w in split(text, nonzero(y)):\n",
    "            print('{}'.format(w))\n",
    "        \"\"\"\n",
    "\n",
    "        \n",
    "        result = []\n",
    "        for w in split(text, nonzero(y)):\n",
    "            result.append(w)\n",
    "            \n",
    "        return result\n",
    "        "
   ]
  },
  {
   "cell_type": "code",
   "execution_count": 41,
   "metadata": {},
   "outputs": [
    {
     "name": "stdout",
     "output_type": "stream",
     "text": [
      "INFO:tensorflow:Restoring parameters from b'saved_model/variables/variables'\n",
      "['ถ้า', 'เรา', 'เชื่อ', 'ว่า', ' ', 'หุ้น', 'คือ', 'สินทรัพย์', ' ', 'เรา', 'จะ', 'ทำ', 'การ', 'สะสม', 'หุ้น', 'ไป', 'เรื่อย', 'ๆ', ' ', 'ซื้อ', 'หุ้น', ' ', 'เวลา', 'ที่', 'หุ้น', 'ราคา', 'ถูก', ' ', 'เวลา', 'มี', 'ข่าว', 'ร้าย']\n"
     ]
    }
   ],
   "source": [
    "word = word_segmenter(\"ถ้าเราเชื่อว่า หุ้นคือสินทรัพย์ เราจะทำการสะสมหุ้นไปเรื่อยๆ ซื้อหุ้น เวลาที่หุ้นราคาถูก เวลามีข่าวร้าย\")\n",
    "print(word)"
   ]
  },
  {
   "cell_type": "code",
   "execution_count": 42,
   "metadata": {},
   "outputs": [
    {
     "name": "stdout",
     "output_type": "stream",
     "text": [
      "[('ถ้า', 'JSBR'), ('เรา', 'PPRS'), ('เชื่อ', 'VACT'), ('ว่า', 'JSBR'), (' ', None), ('หุ้น', 'NCMN'), ('คือ', 'VSTA'), ('สินทรัพย์', None), (' ', None), ('เรา', 'PPRS'), ('จะ', 'XVBM'), ('ทำ', 'VACT'), ('การ', 'FIXN'), ('สะสม', 'VSTA'), ('หุ้น', 'NCMN'), ('ไป', 'XVAE'), ('เรื่อย', 'ADVN'), ('ๆ', 'NCMN'), (' ', None), ('ซื้อ', 'VACT'), ('หุ้น', 'NCMN'), (' ', None), ('เวลา', 'NCMN'), ('ที่', 'PREL'), ('หุ้น', 'NCMN'), ('ราคา', 'NCMN'), ('ถูก', 'XVAM'), (' ', None), ('เวลา', 'NCMN'), ('มี', 'VSTA'), ('ข่าว', 'NCMN'), ('ร้าย', 'VATT')]\n"
     ]
    }
   ],
   "source": [
    "from pythainlp.tag import pos_tag\n",
    "pos_tag = pos_tag(word,engine='old')\n",
    "print(pos_tag)"
   ]
  },
  {
   "cell_type": "code",
   "execution_count": 43,
   "metadata": {},
   "outputs": [
    {
     "name": "stdout",
     "output_type": "stream",
     "text": [
      "Counter({' ': 5, 'หุ้น': 4, 'เรา': 2, 'เวลา': 2, 'ถ้า': 1, 'เชื่อ': 1, 'ว่า': 1, 'คือ': 1, 'สินทรัพย์': 1, 'จะ': 1, 'ทำ': 1, 'การ': 1, 'สะสม': 1, 'ไป': 1, 'เรื่อย': 1, 'ๆ': 1, 'ซื้อ': 1, 'ที่': 1, 'ราคา': 1, 'ถูก': 1, 'มี': 1, 'ข่าว': 1, 'ร้าย': 1})\n"
     ]
    }
   ],
   "source": [
    "from pythainlp.rank import rank\n",
    "freq = rank(word)\n",
    "print(freq)"
   ]
  },
  {
   "cell_type": "code",
   "execution_count": 44,
   "metadata": {},
   "outputs": [
    {
     "name": "stdout",
     "output_type": "stream",
     "text": [
      "32\n",
      "32\n",
      "23\n"
     ]
    }
   ],
   "source": [
    "print(len(word))\n",
    "print(len(pos_tag))\n",
    "print(len(freq))"
   ]
  },
  {
   "cell_type": "code",
   "execution_count": 49,
   "metadata": {},
   "outputs": [],
   "source": [
    "result = []\n",
    "for w, p in zip(word, pos_tag):\n",
    "    result.append({\n",
    "        'word' : w,\n",
    "        'pos_tag' : p\n",
    "    })"
   ]
  },
  {
   "cell_type": "code",
   "execution_count": 46,
   "metadata": {},
   "outputs": [
    {
     "name": "stdout",
     "output_type": "stream",
     "text": [
      "[{'word': 'ถ้า', 'pos_tag': ('ถ้า', 'JSBR')}, {'word': 'เรา', 'pos_tag': ('เรา', 'PPRS')}, {'word': 'เชื่อ', 'pos_tag': ('เชื่อ', 'VACT')}, {'word': 'ว่า', 'pos_tag': ('ว่า', 'JSBR')}, {'word': ' ', 'pos_tag': (' ', None)}, {'word': 'หุ้น', 'pos_tag': ('หุ้น', 'NCMN')}, {'word': 'คือ', 'pos_tag': ('คือ', 'VSTA')}, {'word': 'สินทรัพย์', 'pos_tag': ('สินทรัพย์', None)}, {'word': ' ', 'pos_tag': (' ', None)}, {'word': 'เรา', 'pos_tag': ('เรา', 'PPRS')}, {'word': 'จะ', 'pos_tag': ('จะ', 'XVBM')}, {'word': 'ทำ', 'pos_tag': ('ทำ', 'VACT')}, {'word': 'การ', 'pos_tag': ('การ', 'FIXN')}, {'word': 'สะสม', 'pos_tag': ('สะสม', 'VSTA')}, {'word': 'หุ้น', 'pos_tag': ('หุ้น', 'NCMN')}, {'word': 'ไป', 'pos_tag': ('ไป', 'XVAE')}, {'word': 'เรื่อย', 'pos_tag': ('เรื่อย', 'ADVN')}, {'word': 'ๆ', 'pos_tag': ('ๆ', 'NCMN')}, {'word': ' ', 'pos_tag': (' ', None)}, {'word': 'ซื้อ', 'pos_tag': ('ซื้อ', 'VACT')}, {'word': 'หุ้น', 'pos_tag': ('หุ้น', 'NCMN')}, {'word': ' ', 'pos_tag': (' ', None)}, {'word': 'เวลา', 'pos_tag': ('เวลา', 'NCMN')}, {'word': 'ที่', 'pos_tag': ('ที่', 'PREL')}, {'word': 'หุ้น', 'pos_tag': ('หุ้น', 'NCMN')}, {'word': 'ราคา', 'pos_tag': ('ราคา', 'NCMN')}, {'word': 'ถูก', 'pos_tag': ('ถูก', 'XVAM')}, {'word': ' ', 'pos_tag': (' ', None)}, {'word': 'เวลา', 'pos_tag': ('เวลา', 'NCMN')}, {'word': 'มี', 'pos_tag': ('มี', 'VSTA')}, {'word': 'ข่าว', 'pos_tag': ('ข่าว', 'NCMN')}, {'word': 'ร้าย', 'pos_tag': ('ร้าย', 'VATT')}]\n"
     ]
    }
   ],
   "source": [
    "print(result)"
   ]
  },
  {
   "cell_type": "code",
   "execution_count": 62,
   "metadata": {},
   "outputs": [],
   "source": [
    "result = []\n",
    "for i in range(len(word)):\n",
    "    result.append({\n",
    "        'word' : word[i],\n",
    "        'pos_tag' : pos_tag[i][1],\n",
    "        'freq' : freq[word[i]]\n",
    "    })"
   ]
  },
  {
   "cell_type": "code",
   "execution_count": 63,
   "metadata": {},
   "outputs": [
    {
     "name": "stdout",
     "output_type": "stream",
     "text": [
      "[{'word': 'ถ้า', 'pos_tag': 'JSBR', 'freq': 1}, {'word': 'เรา', 'pos_tag': 'PPRS', 'freq': 2}, {'word': 'เชื่อ', 'pos_tag': 'VACT', 'freq': 1}, {'word': 'ว่า', 'pos_tag': 'JSBR', 'freq': 1}, {'word': ' ', 'pos_tag': None, 'freq': 5}, {'word': 'หุ้น', 'pos_tag': 'NCMN', 'freq': 4}, {'word': 'คือ', 'pos_tag': 'VSTA', 'freq': 1}, {'word': 'สินทรัพย์', 'pos_tag': None, 'freq': 1}, {'word': ' ', 'pos_tag': None, 'freq': 5}, {'word': 'เรา', 'pos_tag': 'PPRS', 'freq': 2}, {'word': 'จะ', 'pos_tag': 'XVBM', 'freq': 1}, {'word': 'ทำ', 'pos_tag': 'VACT', 'freq': 1}, {'word': 'การ', 'pos_tag': 'FIXN', 'freq': 1}, {'word': 'สะสม', 'pos_tag': 'VSTA', 'freq': 1}, {'word': 'หุ้น', 'pos_tag': 'NCMN', 'freq': 4}, {'word': 'ไป', 'pos_tag': 'XVAE', 'freq': 1}, {'word': 'เรื่อย', 'pos_tag': 'ADVN', 'freq': 1}, {'word': 'ๆ', 'pos_tag': 'NCMN', 'freq': 1}, {'word': ' ', 'pos_tag': None, 'freq': 5}, {'word': 'ซื้อ', 'pos_tag': 'VACT', 'freq': 1}, {'word': 'หุ้น', 'pos_tag': 'NCMN', 'freq': 4}, {'word': ' ', 'pos_tag': None, 'freq': 5}, {'word': 'เวลา', 'pos_tag': 'NCMN', 'freq': 2}, {'word': 'ที่', 'pos_tag': 'PREL', 'freq': 1}, {'word': 'หุ้น', 'pos_tag': 'NCMN', 'freq': 4}, {'word': 'ราคา', 'pos_tag': 'NCMN', 'freq': 1}, {'word': 'ถูก', 'pos_tag': 'XVAM', 'freq': 1}, {'word': ' ', 'pos_tag': None, 'freq': 5}, {'word': 'เวลา', 'pos_tag': 'NCMN', 'freq': 2}, {'word': 'มี', 'pos_tag': 'VSTA', 'freq': 1}, {'word': 'ข่าว', 'pos_tag': 'NCMN', 'freq': 1}, {'word': 'ร้าย', 'pos_tag': 'VATT', 'freq': 1}]\n"
     ]
    }
   ],
   "source": [
    "print(result)"
   ]
  },
  {
   "cell_type": "code",
   "execution_count": 68,
   "metadata": {},
   "outputs": [
    {
     "data": {
      "text/html": [
       "<div>\n",
       "<style scoped>\n",
       "    .dataframe tbody tr th:only-of-type {\n",
       "        vertical-align: middle;\n",
       "    }\n",
       "\n",
       "    .dataframe tbody tr th {\n",
       "        vertical-align: top;\n",
       "    }\n",
       "\n",
       "    .dataframe thead th {\n",
       "        text-align: right;\n",
       "    }\n",
       "</style>\n",
       "<table border=\"1\" class=\"dataframe\">\n",
       "  <thead>\n",
       "    <tr style=\"text-align: right;\">\n",
       "      <th></th>\n",
       "      <th>freq</th>\n",
       "      <th>pos_tag</th>\n",
       "      <th>word</th>\n",
       "    </tr>\n",
       "  </thead>\n",
       "  <tbody>\n",
       "    <tr>\n",
       "      <th>0</th>\n",
       "      <td>1</td>\n",
       "      <td>JSBR</td>\n",
       "      <td>ถ้า</td>\n",
       "    </tr>\n",
       "    <tr>\n",
       "      <th>1</th>\n",
       "      <td>2</td>\n",
       "      <td>PPRS</td>\n",
       "      <td>เรา</td>\n",
       "    </tr>\n",
       "    <tr>\n",
       "      <th>2</th>\n",
       "      <td>1</td>\n",
       "      <td>VACT</td>\n",
       "      <td>เชื่อ</td>\n",
       "    </tr>\n",
       "    <tr>\n",
       "      <th>3</th>\n",
       "      <td>1</td>\n",
       "      <td>JSBR</td>\n",
       "      <td>ว่า</td>\n",
       "    </tr>\n",
       "    <tr>\n",
       "      <th>4</th>\n",
       "      <td>5</td>\n",
       "      <td>None</td>\n",
       "      <td></td>\n",
       "    </tr>\n",
       "    <tr>\n",
       "      <th>5</th>\n",
       "      <td>4</td>\n",
       "      <td>NCMN</td>\n",
       "      <td>หุ้น</td>\n",
       "    </tr>\n",
       "    <tr>\n",
       "      <th>6</th>\n",
       "      <td>1</td>\n",
       "      <td>VSTA</td>\n",
       "      <td>คือ</td>\n",
       "    </tr>\n",
       "    <tr>\n",
       "      <th>7</th>\n",
       "      <td>1</td>\n",
       "      <td>None</td>\n",
       "      <td>สินทรัพย์</td>\n",
       "    </tr>\n",
       "    <tr>\n",
       "      <th>8</th>\n",
       "      <td>5</td>\n",
       "      <td>None</td>\n",
       "      <td></td>\n",
       "    </tr>\n",
       "    <tr>\n",
       "      <th>9</th>\n",
       "      <td>2</td>\n",
       "      <td>PPRS</td>\n",
       "      <td>เรา</td>\n",
       "    </tr>\n",
       "    <tr>\n",
       "      <th>10</th>\n",
       "      <td>1</td>\n",
       "      <td>XVBM</td>\n",
       "      <td>จะ</td>\n",
       "    </tr>\n",
       "    <tr>\n",
       "      <th>11</th>\n",
       "      <td>1</td>\n",
       "      <td>VACT</td>\n",
       "      <td>ทำ</td>\n",
       "    </tr>\n",
       "    <tr>\n",
       "      <th>12</th>\n",
       "      <td>1</td>\n",
       "      <td>FIXN</td>\n",
       "      <td>การ</td>\n",
       "    </tr>\n",
       "    <tr>\n",
       "      <th>13</th>\n",
       "      <td>1</td>\n",
       "      <td>VSTA</td>\n",
       "      <td>สะสม</td>\n",
       "    </tr>\n",
       "    <tr>\n",
       "      <th>14</th>\n",
       "      <td>4</td>\n",
       "      <td>NCMN</td>\n",
       "      <td>หุ้น</td>\n",
       "    </tr>\n",
       "    <tr>\n",
       "      <th>15</th>\n",
       "      <td>1</td>\n",
       "      <td>XVAE</td>\n",
       "      <td>ไป</td>\n",
       "    </tr>\n",
       "    <tr>\n",
       "      <th>16</th>\n",
       "      <td>1</td>\n",
       "      <td>ADVN</td>\n",
       "      <td>เรื่อย</td>\n",
       "    </tr>\n",
       "    <tr>\n",
       "      <th>17</th>\n",
       "      <td>1</td>\n",
       "      <td>NCMN</td>\n",
       "      <td>ๆ</td>\n",
       "    </tr>\n",
       "    <tr>\n",
       "      <th>18</th>\n",
       "      <td>5</td>\n",
       "      <td>None</td>\n",
       "      <td></td>\n",
       "    </tr>\n",
       "    <tr>\n",
       "      <th>19</th>\n",
       "      <td>1</td>\n",
       "      <td>VACT</td>\n",
       "      <td>ซื้อ</td>\n",
       "    </tr>\n",
       "    <tr>\n",
       "      <th>20</th>\n",
       "      <td>4</td>\n",
       "      <td>NCMN</td>\n",
       "      <td>หุ้น</td>\n",
       "    </tr>\n",
       "    <tr>\n",
       "      <th>21</th>\n",
       "      <td>5</td>\n",
       "      <td>None</td>\n",
       "      <td></td>\n",
       "    </tr>\n",
       "    <tr>\n",
       "      <th>22</th>\n",
       "      <td>2</td>\n",
       "      <td>NCMN</td>\n",
       "      <td>เวลา</td>\n",
       "    </tr>\n",
       "    <tr>\n",
       "      <th>23</th>\n",
       "      <td>1</td>\n",
       "      <td>PREL</td>\n",
       "      <td>ที่</td>\n",
       "    </tr>\n",
       "    <tr>\n",
       "      <th>24</th>\n",
       "      <td>4</td>\n",
       "      <td>NCMN</td>\n",
       "      <td>หุ้น</td>\n",
       "    </tr>\n",
       "    <tr>\n",
       "      <th>25</th>\n",
       "      <td>1</td>\n",
       "      <td>NCMN</td>\n",
       "      <td>ราคา</td>\n",
       "    </tr>\n",
       "    <tr>\n",
       "      <th>26</th>\n",
       "      <td>1</td>\n",
       "      <td>XVAM</td>\n",
       "      <td>ถูก</td>\n",
       "    </tr>\n",
       "    <tr>\n",
       "      <th>27</th>\n",
       "      <td>5</td>\n",
       "      <td>None</td>\n",
       "      <td></td>\n",
       "    </tr>\n",
       "    <tr>\n",
       "      <th>28</th>\n",
       "      <td>2</td>\n",
       "      <td>NCMN</td>\n",
       "      <td>เวลา</td>\n",
       "    </tr>\n",
       "    <tr>\n",
       "      <th>29</th>\n",
       "      <td>1</td>\n",
       "      <td>VSTA</td>\n",
       "      <td>มี</td>\n",
       "    </tr>\n",
       "    <tr>\n",
       "      <th>30</th>\n",
       "      <td>1</td>\n",
       "      <td>NCMN</td>\n",
       "      <td>ข่าว</td>\n",
       "    </tr>\n",
       "    <tr>\n",
       "      <th>31</th>\n",
       "      <td>1</td>\n",
       "      <td>VATT</td>\n",
       "      <td>ร้าย</td>\n",
       "    </tr>\n",
       "  </tbody>\n",
       "</table>\n",
       "</div>"
      ],
      "text/plain": [
       "    freq pos_tag       word\n",
       "0      1    JSBR        ถ้า\n",
       "1      2    PPRS        เรา\n",
       "2      1    VACT      เชื่อ\n",
       "3      1    JSBR        ว่า\n",
       "4      5    None           \n",
       "5      4    NCMN       หุ้น\n",
       "6      1    VSTA        คือ\n",
       "7      1    None  สินทรัพย์\n",
       "8      5    None           \n",
       "9      2    PPRS        เรา\n",
       "10     1    XVBM         จะ\n",
       "11     1    VACT         ทำ\n",
       "12     1    FIXN        การ\n",
       "13     1    VSTA       สะสม\n",
       "14     4    NCMN       หุ้น\n",
       "15     1    XVAE         ไป\n",
       "16     1    ADVN     เรื่อย\n",
       "17     1    NCMN          ๆ\n",
       "18     5    None           \n",
       "19     1    VACT       ซื้อ\n",
       "20     4    NCMN       หุ้น\n",
       "21     5    None           \n",
       "22     2    NCMN       เวลา\n",
       "23     1    PREL        ที่\n",
       "24     4    NCMN       หุ้น\n",
       "25     1    NCMN       ราคา\n",
       "26     1    XVAM        ถูก\n",
       "27     5    None           \n",
       "28     2    NCMN       เวลา\n",
       "29     1    VSTA         มี\n",
       "30     1    NCMN       ข่าว\n",
       "31     1    VATT       ร้าย"
      ]
     },
     "execution_count": 68,
     "metadata": {},
     "output_type": "execute_result"
    }
   ],
   "source": [
    "import pandas as pd\n",
    "pd.DataFrame(result)\n"
   ]
  },
  {
   "cell_type": "code",
   "execution_count": 69,
   "metadata": {},
   "outputs": [
    {
     "data": {
      "text/plain": [
       "'neg'"
      ]
     },
     "execution_count": 69,
     "metadata": {},
     "output_type": "execute_result"
    }
   ],
   "source": [
    "from pythainlp.sentiment import sentiment\n",
    "sentiment(\"ถ้าเราเชื่อว่า หุ้นคือสินทรัพย์ เราจะทำการสะสมหุ้นไปเรื่อยๆ ซื้อหุ้น เวลาที่หุ้นราคาถูก เวลามีข่าวร้าย\")"
   ]
  },
  {
   "cell_type": "code",
   "execution_count": null,
   "metadata": {},
   "outputs": [],
   "source": []
  }
 ],
 "metadata": {
  "kernelspec": {
   "display_name": "Python 3",
   "language": "python",
   "name": "python3"
  },
  "language_info": {
   "codemirror_mode": {
    "name": "ipython",
    "version": 3
   },
   "file_extension": ".py",
   "mimetype": "text/x-python",
   "name": "python",
   "nbconvert_exporter": "python",
   "pygments_lexer": "ipython3",
   "version": "3.6.4"
  }
 },
 "nbformat": 4,
 "nbformat_minor": 2
}
